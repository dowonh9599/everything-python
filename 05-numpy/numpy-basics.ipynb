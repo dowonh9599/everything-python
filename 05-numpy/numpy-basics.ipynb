{
 "cells": [
  {
   "cell_type": "markdown",
   "metadata": {},
   "source": [
    "# NumPy Basics"
   ]
  },
  {
   "cell_type": "markdown",
   "metadata": {},
   "source": [
    "## Why Do we need NumPy?"
   ]
  },
  {
   "cell_type": "code",
   "execution_count": 5,
   "metadata": {},
   "outputs": [
    {
     "name": "stdout",
     "output_type": "stream",
     "text": [
      "<class 'list'>\n",
      "<class 'int'>\n"
     ]
    }
   ],
   "source": [
    "nums = [1,2,3,4,5] # 1D Array (Matrix)\n",
    "print(type(nums)) # type of nums\n",
    "print(type(nums[0])) # type of elements in nums"
   ]
  },
  {
   "cell_type": "markdown",
   "metadata": {},
   "source": [
    "Suppose you want to create a 2D matrix..."
   ]
  },
  {
   "cell_type": "code",
   "execution_count": 7,
   "metadata": {},
   "outputs": [
    {
     "name": "stdout",
     "output_type": "stream",
     "text": [
      "1\n",
      "2\n",
      "3\n",
      "4\n",
      "5\n",
      "6\n"
     ]
    }
   ],
   "source": [
    "nums2D = [[1,2,3],[4,5,6]]\n",
    "print(nums2D[0][0]) # 1\n",
    "print(nums2D[0][1]) # 2\n",
    "print(nums2D[0][2]) # 3\n",
    "print(nums2D[1][0]) # 4\n",
    "print(nums2D[1][1]) # 5\n",
    "print(nums2D[1][2]) # 6"
   ]
  },
  {
   "cell_type": "markdown",
   "metadata": {},
   "source": [
    "### We use NumPy to:\n",
    "1. Create n-Dimensinoal Arrays (Matrices)"
   ]
  },
  {
   "cell_type": "markdown",
   "metadata": {},
   "source": [
    "## 2. Getting Started with NumPy"
   ]
  },
  {
   "cell_type": "code",
   "execution_count": 14,
   "metadata": {},
   "outputs": [
    {
     "name": "stdout",
     "output_type": "stream",
     "text": [
      "Requirement already satisfied: numpy in /Library/Frameworks/Python.framework/Versions/3.12/lib/python3.12/site-packages (1.26.4)\n",
      "Note: you may need to restart the kernel to use updated packages.\n"
     ]
    }
   ],
   "source": [
    "# install numpy module to device\n",
    "%pip install numpy"
   ]
  },
  {
   "cell_type": "code",
   "execution_count": 10,
   "metadata": {},
   "outputs": [],
   "source": [
    "import numpy as np # import numpy module, and give alias called \"np\""
   ]
  },
  {
   "cell_type": "markdown",
   "metadata": {},
   "source": [
    "### 2.1 Creating Numpy Array"
   ]
  },
  {
   "cell_type": "markdown",
   "metadata": {},
   "source": [
    "There are numerous Ways to Create NumPy Arrays"
   ]
  },
  {
   "cell_type": "code",
   "execution_count": 48,
   "metadata": {},
   "outputs": [
    {
     "name": "stdout",
     "output_type": "stream",
     "text": [
      "1. [1 4 2 5 3]\n",
      "2. [1. 2. 3. 4.]\n",
      "3.\n",
      " [[2 3 4]\n",
      " [4 5 6]\n",
      " [6 7 8]]\n",
      "4. NumPy Array full of 0s\n",
      " [0 0 0 0 0 0 0 0 0 0]\n",
      "5. NumPy Array full of 0s\n",
      " [[0 0 0 0 0 0 0 0 0 0]\n",
      " [0 0 0 0 0 0 0 0 0 0]\n",
      " [0 0 0 0 0 0 0 0 0 0]\n",
      " [0 0 0 0 0 0 0 0 0 0]\n",
      " [0 0 0 0 0 0 0 0 0 0]]\n"
     ]
    }
   ],
   "source": [
    "print(\"1.\", np.array([1,4,2,5,3])) # numpy array with 5 integers in it.\n",
    "\n",
    "print(\"2.\", np.array([1,2,3,4], dtype=\"float\")) # 1,2,3,4 will be upcasted to \"dtype\" if possible\n",
    "\n",
    "\"\"\"\n",
    "1. There are three numbers \"i\" can be => 2, 4, 6\n",
    "2. range(i, i+3) will result in range of list with 3 numbers,\n",
    "    - suppose, i = 2, range(2, 2+3) = [2,3,4]\n",
    "    - suppose, i = 4, range(4, 4+3) = [4,5,6]\n",
    "    - suppose, i = 6, range(6, 6+3) = [6,7,8]\n",
    "\"\"\"\n",
    "print(\"3.\\n\", np.array([range(i, i+3) for i in [2,4,6]]))\n",
    "\n",
    "print(\"4. NumPy Array full of 0s\\n\", np.zeros(10, dtype=\"int\"))\n",
    "\n",
    "print(\"5. NumPy Array full of 0s\\n\", np.zeros([5,10], dtype=\"int\"))"
   ]
  },
  {
   "cell_type": "code",
   "execution_count": 49,
   "metadata": {},
   "outputs": [
    {
     "name": "stdout",
     "output_type": "stream",
     "text": [
      "6.NumPy Array Full of 1s\n",
      " [1 1 1 1 1 1 1 1 1 1]\n",
      "7.NumPy Array Full of 1s\n",
      " [[1 1 1 1 1 1 1 1 1 1]\n",
      " [1 1 1 1 1 1 1 1 1 1]\n",
      " [1 1 1 1 1 1 1 1 1 1]\n",
      " [1 1 1 1 1 1 1 1 1 1]\n",
      " [1 1 1 1 1 1 1 1 1 1]]\n",
      "8. NumPy Array Full of certain number\n",
      " [[3.14 3.14 3.14 3.14 3.14]\n",
      " [3.14 3.14 3.14 3.14 3.14]\n",
      " [3.14 3.14 3.14 3.14 3.14]]\n",
      "9. NumPy Arange function\n",
      " [ 0  1  2  3  4  5  6  7  8  9 10 11 12 13 14 15 16 17 18 19]\n",
      "[ 0  2  4  6  8 10 12 14 16 18]\n",
      "[ 0  4  8 12 16]\n",
      "[ 0 10]\n",
      "10. NumPy Array with Line spaced\n",
      " [0.   0.25 0.5  0.75 1.  ]\n",
      "11. NumPy Array with Random Integers\n",
      " [[5 3 1]\n",
      " [0 9 9]\n",
      " [1 7 0]]\n",
      "12. NumPy Array with Random Numbers between 0-1\n",
      " [[0.34468466 0.31347464 0.76076003]\n",
      " [0.63474149 0.4030371  0.56218233]\n",
      " [0.68610289 0.26893914 0.79933226]]\n"
     ]
    }
   ],
   "source": [
    "print(\"6.NumPy Array Full of 1s\\n\", np.ones(10, dtype=\"int\"))\n",
    "\n",
    "print(\"7.NumPy Array Full of 1s\\n\", np.ones([5,10], dtype=\"int\"))\n",
    "\n",
    "print(\"8. NumPy Array Full of certain number\\n\", np.full([3,5], 3.14))\n",
    "\n",
    "print(\"9. NumPy Arange function\\n\", np.arange(0, 20))\n",
    "print(np.arange(0, 20, 2)) # np.arange(start, stop, step), very similar to range(start, stop, step)\n",
    "print(np.arange(0, 20, 4))\n",
    "print(np.arange(0, 20, 10))\n",
    "\n",
    "print(\"10. NumPy Array with Line spaced\\n\", np.linspace(0,1,5))\n",
    "\n",
    "print(\"11. NumPy Array with Random Integers\\n\", np.random.randint(0,10, [3,3]))\n",
    "print(\"12. NumPy Array with Random Numbers between 0-1\\n\", np.random.random([3,3]))"
   ]
  },
  {
   "cell_type": "markdown",
   "metadata": {},
   "source": [
    "## 2.2 NumPy Array vs. Python List"
   ]
  },
  {
   "cell_type": "markdown",
   "metadata": {},
   "source": [
    "Unlike Python lists, NumPy is constrained to arrays that all contain the same type. If types do not match, NumPy will **Upcast** if possible."
   ]
  },
  {
   "cell_type": "code",
   "execution_count": 22,
   "metadata": {},
   "outputs": [
    {
     "name": "stdout",
     "output_type": "stream",
     "text": [
      "[1, 2, 3, 4, 3.14]\n",
      "[1.   2.   3.   4.   3.14]\n"
     ]
    }
   ],
   "source": [
    "print([1,2,3,4,3.14])\n",
    "print(np.array([1,2,3,4,3.14])) # 1, 2, 3, 4 => 1.0, 2.0, 3.0, 4.0 (Upcasting Integer to Float)"
   ]
  },
  {
   "cell_type": "markdown",
   "metadata": {},
   "source": [
    "## 2.3 NumPy Array Attributes"
   ]
  },
  {
   "cell_type": "code",
   "execution_count": 54,
   "metadata": {},
   "outputs": [
    {
     "name": "stdout",
     "output_type": "stream",
     "text": [
      "number of dimensions: 2\n",
      "data type in array: float64\n",
      "numpy array shapre(n x m?): (3, 5)\n",
      "size in bytes: 15\n"
     ]
    }
   ],
   "source": [
    "np_arr = np.full([3,5], 7.5)\n",
    "print(\"number of dimensions:\", np_arr.ndim)\n",
    "print(\"data type in array:\", np_arr.dtype)\n",
    "print(\"numpy array shapre(n x m?):\", np_arr.shape)\n",
    "print(\"size in bytes:\", np_arr.size)"
   ]
  },
  {
   "cell_type": "markdown",
   "metadata": {},
   "source": [
    "## 2.4 Indexing NumPy Array"
   ]
  },
  {
   "cell_type": "code",
   "execution_count": 63,
   "metadata": {},
   "outputs": [
    {
     "data": {
      "text/plain": [
       "array([[6, 1, 8, 3, 1],\n",
       "       [5, 8, 3, 1, 2],\n",
       "       [1, 5, 2, 8, 9]])"
      ]
     },
     "execution_count": 63,
     "metadata": {},
     "output_type": "execute_result"
    }
   ],
   "source": [
    "np_arr = np.random.randint(1,10,[3,5])\n",
    "np_arr"
   ]
  },
  {
   "cell_type": "code",
   "execution_count": 64,
   "metadata": {},
   "outputs": [
    {
     "data": {
      "text/plain": [
       "array([6, 1, 8, 3, 1])"
      ]
     },
     "execution_count": 64,
     "metadata": {},
     "output_type": "execute_result"
    }
   ],
   "source": [
    "np_arr[0]"
   ]
  },
  {
   "cell_type": "code",
   "execution_count": 67,
   "metadata": {},
   "outputs": [
    {
     "name": "stdout",
     "output_type": "stream",
     "text": [
      "3\n",
      "3\n"
     ]
    }
   ],
   "source": [
    "# numpy supports both\n",
    "print(np_arr[1][2])\n",
    "print(np_arr[1,2])"
   ]
  },
  {
   "cell_type": "markdown",
   "metadata": {},
   "source": []
  }
 ],
 "metadata": {
  "kernelspec": {
   "display_name": "Python 3",
   "language": "python",
   "name": "python3"
  },
  "language_info": {
   "codemirror_mode": {
    "name": "ipython",
    "version": 3
   },
   "file_extension": ".py",
   "mimetype": "text/x-python",
   "name": "python",
   "nbconvert_exporter": "python",
   "pygments_lexer": "ipython3",
   "version": "3.12.2"
  }
 },
 "nbformat": 4,
 "nbformat_minor": 2
}
