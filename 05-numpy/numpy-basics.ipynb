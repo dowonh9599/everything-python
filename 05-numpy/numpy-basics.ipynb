{
 "cells": [
  {
   "cell_type": "markdown",
   "metadata": {},
   "source": [
    "# NumPy Basics"
   ]
  },
  {
   "cell_type": "markdown",
   "metadata": {},
   "source": [
    "## Why Do we need NumPy?"
   ]
  },
  {
   "cell_type": "code",
   "execution_count": 2,
   "metadata": {},
   "outputs": [
    {
     "name": "stdout",
     "output_type": "stream",
     "text": [
      "<class 'list'>\n",
      "<class 'int'>\n"
     ]
    }
   ],
   "source": [
    "nums = [1,2,3,4,5] # 1D Array (Matrix)\n",
    "print(type(nums)) # type of nums\n",
    "print(type(nums[0])) # type of elements in nums"
   ]
  },
  {
   "cell_type": "markdown",
   "metadata": {},
   "source": [
    "Suppose you want to create a 2D matrix..."
   ]
  },
  {
   "cell_type": "code",
   "execution_count": 3,
   "metadata": {},
   "outputs": [
    {
     "name": "stdout",
     "output_type": "stream",
     "text": [
      "1\n",
      "2\n",
      "3\n",
      "4\n",
      "5\n",
      "6\n"
     ]
    }
   ],
   "source": [
    "nums2D = [[1,2,3],[4,5,6]]\n",
    "print(nums2D[0][0]) # 1\n",
    "print(nums2D[0][1]) # 2\n",
    "print(nums2D[0][2]) # 3\n",
    "print(nums2D[1][0]) # 4\n",
    "print(nums2D[1][1]) # 5\n",
    "print(nums2D[1][2]) # 6"
   ]
  },
  {
   "cell_type": "markdown",
   "metadata": {},
   "source": [
    "### We use NumPy to:\n",
    "1. Create n-Dimensinoal Arrays (Matrices)"
   ]
  },
  {
   "cell_type": "markdown",
   "metadata": {},
   "source": [
    "## 2. Getting Started with NumPy"
   ]
  },
  {
   "cell_type": "code",
   "execution_count": 4,
   "metadata": {},
   "outputs": [
    {
     "name": "stdout",
     "output_type": "stream",
     "text": [
      "Requirement already satisfied: numpy in /Library/Frameworks/Python.framework/Versions/3.12/lib/python3.12/site-packages (1.26.4)\n",
      "Note: you may need to restart the kernel to use updated packages.\n"
     ]
    }
   ],
   "source": [
    "# install numpy module to device\n",
    "%pip install numpy"
   ]
  },
  {
   "cell_type": "code",
   "execution_count": 5,
   "metadata": {},
   "outputs": [],
   "source": [
    "import numpy as np # import numpy module, and give alias called \"np\""
   ]
  },
  {
   "cell_type": "markdown",
   "metadata": {},
   "source": [
    "### 2.1 Creating Numpy Array"
   ]
  },
  {
   "cell_type": "markdown",
   "metadata": {},
   "source": [
    "There are numerous Ways to Create NumPy Arrays"
   ]
  },
  {
   "cell_type": "code",
   "execution_count": 6,
   "metadata": {},
   "outputs": [
    {
     "name": "stdout",
     "output_type": "stream",
     "text": [
      "1. [1 4 2 5 3]\n",
      "2. [1. 2. 3. 4.]\n",
      "3.\n",
      " [[2 3 4]\n",
      " [4 5 6]\n",
      " [6 7 8]]\n",
      "4. NumPy Array full of 0s\n",
      " [0 0 0 0 0 0 0 0 0 0]\n",
      "5. NumPy Array full of 0s\n",
      " [[0 0 0 0 0 0 0 0 0 0]\n",
      " [0 0 0 0 0 0 0 0 0 0]\n",
      " [0 0 0 0 0 0 0 0 0 0]\n",
      " [0 0 0 0 0 0 0 0 0 0]\n",
      " [0 0 0 0 0 0 0 0 0 0]]\n"
     ]
    }
   ],
   "source": [
    "print(\"1.\", np.array([1,4,2,5,3])) # numpy array with 5 integers in it.\n",
    "\n",
    "print(\"2.\", np.array([1,2,3,4], dtype=\"float\")) # 1,2,3,4 will be upcasted to \"dtype\" if possible\n",
    "\n",
    "\"\"\"\n",
    "1. There are three numbers \"i\" can be => 2, 4, 6\n",
    "2. range(i, i+3) will result in range of list with 3 numbers,\n",
    "    - suppose, i = 2, range(2, 2+3) = [2,3,4]\n",
    "    - suppose, i = 4, range(4, 4+3) = [4,5,6]\n",
    "    - suppose, i = 6, range(6, 6+3) = [6,7,8]\n",
    "\"\"\"\n",
    "print(\"3.\\n\", np.array([range(i, i+3) for i in [2,4,6]]))\n",
    "\n",
    "print(\"4. NumPy Array full of 0s\\n\", np.zeros(10, dtype=\"int\"))\n",
    "\n",
    "print(\"5. NumPy Array full of 0s\\n\", np.zeros([5,10], dtype=\"int\"))"
   ]
  },
  {
   "cell_type": "code",
   "execution_count": 7,
   "metadata": {},
   "outputs": [
    {
     "name": "stdout",
     "output_type": "stream",
     "text": [
      "6.NumPy Array Full of 1s\n",
      " [1 1 1 1 1 1 1 1 1 1]\n",
      "7.NumPy Array Full of 1s\n",
      " [[1 1 1 1 1 1 1 1 1 1]\n",
      " [1 1 1 1 1 1 1 1 1 1]\n",
      " [1 1 1 1 1 1 1 1 1 1]\n",
      " [1 1 1 1 1 1 1 1 1 1]\n",
      " [1 1 1 1 1 1 1 1 1 1]]\n",
      "8. NumPy Array Full of certain number\n",
      " [[3.14 3.14 3.14 3.14 3.14]\n",
      " [3.14 3.14 3.14 3.14 3.14]\n",
      " [3.14 3.14 3.14 3.14 3.14]]\n",
      "9. NumPy Arange function\n",
      " [ 0  1  2  3  4  5  6  7  8  9 10 11 12 13 14 15 16 17 18 19]\n",
      "[ 0  2  4  6  8 10 12 14 16 18]\n",
      "[ 0  4  8 12 16]\n",
      "[ 0 10]\n",
      "10. NumPy Array with Line spaced\n",
      " [0.   0.25 0.5  0.75 1.  ]\n",
      "11. NumPy Array with Random Integers\n",
      " [[2 9 1]\n",
      " [5 0 3]\n",
      " [6 8 8]]\n",
      "12. NumPy Array with Random Numbers between 0-1\n",
      " [[0.23017174 0.70714895 0.04369309]\n",
      " [0.39677584 0.52696972 0.9863646 ]\n",
      " [0.56438928 0.59599227 0.46542521]]\n"
     ]
    }
   ],
   "source": [
    "print(\"6.NumPy Array Full of 1s\\n\", np.ones(10, dtype=\"int\"))\n",
    "\n",
    "print(\"7.NumPy Array Full of 1s\\n\", np.ones([5,10], dtype=\"int\"))\n",
    "\n",
    "print(\"8. NumPy Array Full of certain number\\n\", np.full([3,5], 3.14))\n",
    "\n",
    "print(\"9. NumPy Arange function\\n\", np.arange(0, 20))\n",
    "print(np.arange(0, 20, 2)) # np.arange(start, stop, step), very similar to range(start, stop, step)\n",
    "print(np.arange(0, 20, 4))\n",
    "print(np.arange(0, 20, 10))\n",
    "\n",
    "print(\"10. NumPy Array with Line spaced\\n\", np.linspace(0,1,5))\n",
    "\n",
    "print(\"11. NumPy Array with Random Integers\\n\", np.random.randint(0,10, [3,3]))\n",
    "print(\"12. NumPy Array with Random Numbers between 0-1\\n\", np.random.random([3,3]))"
   ]
  },
  {
   "cell_type": "markdown",
   "metadata": {},
   "source": [
    "## 2.2 NumPy Array vs. Python List"
   ]
  },
  {
   "cell_type": "markdown",
   "metadata": {},
   "source": [
    "Unlike Python lists, NumPy is constrained to arrays that all contain the same type. If types do not match, NumPy will **Upcast** if possible."
   ]
  },
  {
   "cell_type": "code",
   "execution_count": 8,
   "metadata": {},
   "outputs": [
    {
     "name": "stdout",
     "output_type": "stream",
     "text": [
      "[1, 2, 3, 4, 3.14]\n",
      "[1.   2.   3.   4.   3.14]\n"
     ]
    }
   ],
   "source": [
    "print([1,2,3,4,3.14])\n",
    "print(np.array([1,2,3,4,3.14])) # 1, 2, 3, 4 => 1.0, 2.0, 3.0, 4.0 (Upcasting Integer to Float)"
   ]
  },
  {
   "cell_type": "markdown",
   "metadata": {},
   "source": [
    "## 2.3 NumPy Array Attributes"
   ]
  },
  {
   "cell_type": "code",
   "execution_count": 9,
   "metadata": {},
   "outputs": [
    {
     "name": "stdout",
     "output_type": "stream",
     "text": [
      "number of dimensions: 2\n",
      "data type in array: float64\n",
      "numpy array shapre(n x m?): (3, 5)\n",
      "size in bytes: 15\n"
     ]
    }
   ],
   "source": [
    "np_arr = np.full([3,5], 7.5)\n",
    "print(\"number of dimensions:\", np_arr.ndim)\n",
    "print(\"data type in array:\", np_arr.dtype)\n",
    "print(\"numpy array shapre(n x m?):\", np_arr.shape)\n",
    "print(\"size in bytes:\", np_arr.size)"
   ]
  },
  {
   "cell_type": "markdown",
   "metadata": {},
   "source": [
    "## 2.4 Indexing NumPy Array"
   ]
  },
  {
   "cell_type": "code",
   "execution_count": 10,
   "metadata": {},
   "outputs": [
    {
     "data": {
      "text/plain": [
       "array([[5, 4, 4, 3, 3],\n",
       "       [8, 3, 6, 3, 8],\n",
       "       [6, 4, 9, 9, 7]])"
      ]
     },
     "execution_count": 10,
     "metadata": {},
     "output_type": "execute_result"
    }
   ],
   "source": [
    "np_arr = np.random.randint(1,10,[3,5])\n",
    "np_arr"
   ]
  },
  {
   "cell_type": "code",
   "execution_count": 11,
   "metadata": {},
   "outputs": [
    {
     "data": {
      "text/plain": [
       "array([5, 4, 4, 3, 3])"
      ]
     },
     "execution_count": 11,
     "metadata": {},
     "output_type": "execute_result"
    }
   ],
   "source": [
    "np_arr[0]"
   ]
  },
  {
   "cell_type": "code",
   "execution_count": 12,
   "metadata": {},
   "outputs": [
    {
     "name": "stdout",
     "output_type": "stream",
     "text": [
      "6\n",
      "6\n"
     ]
    }
   ],
   "source": [
    "# numpy supports both\n",
    "print(np_arr[1][2])\n",
    "print(np_arr[1,2])"
   ]
  },
  {
   "cell_type": "markdown",
   "metadata": {},
   "source": [
    "## 2.5 NumPy Array Slicing"
   ]
  },
  {
   "cell_type": "markdown",
   "metadata": {},
   "source": [
    "### 2.5.1 String Slicing / List Slicing Recap"
   ]
  },
  {
   "cell_type": "code",
   "execution_count": 26,
   "metadata": {},
   "outputs": [
    {
     "name": "stdout",
     "output_type": "stream",
     "text": [
      "ya\n",
      "[14, 7, 2, 5]\n",
      "[14, 2]\n"
     ]
    }
   ],
   "source": [
    "name=\"Ryan\" # \"Ryan\" => [\"R\", \"y\", \"a\", \"n\"]\n",
    "print(name[1:3]) # Grab the letter at index = 1 (inclusive), and then take all letters to index = 3 (exclusive)\n",
    "\n",
    "nums = [10, 50, 14, 7, 2, 5]\n",
    "print(nums[2:6]) # Grab the elements at index = 2 (inclusive), and then take all elements to index = 6 (exclusive)\n",
    "print(nums[2:6:2]) # Grab the same as above, but jump 2 steps every time"
   ]
  },
  {
   "cell_type": "markdown",
   "metadata": {},
   "source": [
    "### 2.5.2 Slicing in NumPy Array"
   ]
  },
  {
   "cell_type": "code",
   "execution_count": 28,
   "metadata": {},
   "outputs": [
    {
     "data": {
      "text/plain": [
       "array([[12,  5,  2,  4],\n",
       "       [ 7,  6,  8,  8],\n",
       "       [ 1,  6,  7,  7]])"
      ]
     },
     "execution_count": 28,
     "metadata": {},
     "output_type": "execute_result"
    }
   ],
   "source": [
    "arr=np.array([\n",
    "  [12,5,2,4],\n",
    "  [7,6,8,8],\n",
    "  [1,6,7,7]\n",
    "])\n",
    "arr"
   ]
  },
  {
   "cell_type": "code",
   "execution_count": 32,
   "metadata": {},
   "outputs": [
    {
     "name": "stdout",
     "output_type": "stream",
     "text": [
      "[12  5  2]\n",
      "[12  5  2]\n"
     ]
    }
   ],
   "source": [
    "# How to slice [12, 5, 2]\n",
    "## 1. slice out [12,5,2,4] from arr\n",
    "arr_first_row = arr[0]\n",
    "## 2. slice out [12,5,2] from 1\n",
    "x1 = arr_first_row[:3]\n",
    "\n",
    "# or in one single line\n",
    "x2 = arr[0][:3]\n",
    "print(x1)\n",
    "print(x2)"
   ]
  },
  {
   "cell_type": "code",
   "execution_count": 36,
   "metadata": {},
   "outputs": [
    {
     "name": "stdout",
     "output_type": "stream",
     "text": [
      "[[12  5  2]\n",
      " [ 7  6  8]]\n"
     ]
    }
   ],
   "source": [
    "# How to slice [[12,5],[7,6]]\n",
    "## slice out first 2 elements from the first and second rows\n",
    "x3 = arr[:2,:3]\n",
    "print(x3)"
   ]
  },
  {
   "cell_type": "code",
   "execution_count": 46,
   "metadata": {},
   "outputs": [
    {
     "name": "stdout",
     "output_type": "stream",
     "text": [
      "arr\n",
      " [[12  5  2  4]\n",
      " [ 7  6  8  8]\n",
      " [ 1  6  7  7]]\n",
      "revered_arr\n",
      " [[ 7  7  6  1]\n",
      " [ 8  8  6  7]\n",
      " [ 4  2  5 12]]\n"
     ]
    }
   ],
   "source": [
    "# How to reverse the array\n",
    "revered_arr = arr[::-1, ::-1] # this is equivalent to arr[-1:-4:-1, -1:-5:-1], using step -1 (going reverse) from end to start\n",
    "print(\"arr\\n\", arr)\n",
    "print(\"revered_arr\\n\", revered_arr)"
   ]
  },
  {
   "cell_type": "markdown",
   "metadata": {},
   "source": [
    "### 2.5.2 Exercises"
   ]
  },
  {
   "cell_type": "code",
   "execution_count": null,
   "metadata": {},
   "outputs": [],
   "source": [
    "# 1. Create a numpy array with any number you like, but in dimension of 6x5\n"
   ]
  },
  {
   "cell_type": "code",
   "execution_count": 37,
   "metadata": {},
   "outputs": [],
   "source": [
    "# 2. slice out 3 elements from first 4 rows, resulted sliced array should have a dimension of 4x3"
   ]
  },
  {
   "cell_type": "code",
   "execution_count": 38,
   "metadata": {},
   "outputs": [],
   "source": [
    "# 3. slice out every elements that are even number index from every odd rows, resulted sliced array should have a dimension of 3x2"
   ]
  },
  {
   "cell_type": "code",
   "execution_count": null,
   "metadata": {},
   "outputs": [],
   "source": [
    "# 4. slice out last 2 element from two last rows in reversed order "
   ]
  }
 ],
 "metadata": {
  "kernelspec": {
   "display_name": "Python 3",
   "language": "python",
   "name": "python3"
  },
  "language_info": {
   "codemirror_mode": {
    "name": "ipython",
    "version": 3
   },
   "file_extension": ".py",
   "mimetype": "text/x-python",
   "name": "python",
   "nbconvert_exporter": "python",
   "pygments_lexer": "ipython3",
   "version": "3.12.2"
  }
 },
 "nbformat": 4,
 "nbformat_minor": 2
}
